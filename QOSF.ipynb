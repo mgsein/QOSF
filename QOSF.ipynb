{
 "cells": [
  {
   "cell_type": "code",
   "execution_count": 3,
   "id": "baf68672",
   "metadata": {},
   "outputs": [],
   "source": [
    "#initialization\n",
    "import matplotlib.pyplot as plt\n",
    "import numpy as np\n",
    "\n",
    "# importing Qiskit\n",
    "from qiskit import QuantumCircuit, execute, Aer, IBMQ\n",
    "from qiskit.compiler import transpile, assemble\n",
    "from qiskit.tools.jupyter import *\n",
    "from qiskit.visualization import *\n",
    "import qiskit as q\n",
    "from qiskit.providers.ibmq import least_busy\n",
    "\n",
    "# import basic plot tools\n",
    "from qiskit.visualization import plot_histogram\n",
    "\n",
    "# Loading your IBM Quantum account(s)\n",
    "provider = IBMQ.load_account()"
   ]
  },
  {
   "cell_type": "code",
   "execution_count": 4,
   "id": "cdbcc7a8",
   "metadata": {
    "scrolled": true
   },
   "outputs": [],
   "source": [
    "def initialize(qc):\n",
    "    \"\"\"Apply a H-gate to the 2 qubits in qc\"\"\"\n",
    "    qc.h(0)\n",
    "    qc.h(1)\n",
    "    qc.barrier()\n",
    "    "
   ]
  },
  {
   "cell_type": "code",
   "execution_count": 5,
   "id": "2d2bb96f",
   "metadata": {},
   "outputs": [
    {
     "data": {
      "image/png": "[encoded data removed]",
      "text/plain": [
       "<Figure size 206.852x144.48 with 1 Axes>"
      ]
     },
     "execution_count": 5,
     "metadata": {},
     "output_type": "execute_result"
    }
   ],
   "source": [
    "grover_circuit = q.QuantumCircuit(2)\n",
    "initialize(grover_circuit)\n",
    "\n",
    "grover_circuit.draw('mpl')"
   ]
  },
  {
   "cell_type": "code",
   "execution_count": 6,
   "id": "80718de1-a2bf-4c6f-828f-53659ff59131",
   "metadata": {},
   "outputs": [],
   "source": [
    "def oracle_11(qc):\n",
    "    \"\"\"Apply a controlled Z gate\"\"\"\n",
    "    qc.cz(0, 1)\n",
    "    qc.barrier()"
   ]
  },
  {
   "cell_type": "code",
   "execution_count": 7,
   "id": "0feba231-8159-4f16-8a72-3b9e66b5f24f",
   "metadata": {},
   "outputs": [
    {
     "data": {
      "image/png": "[encoded data removed]",
      "text/plain": [
       "<Figure size 327.252x144.48 with 1 Axes>"
      ]
     },
     "execution_count": 7,
     "metadata": {},
     "output_type": "execute_result"
    }
   ],
   "source": [
    "oracle_11(grover_circuit)\n",
    "grover_circuit.draw('mpl')"
   ]
  },
  {
   "cell_type": "code",
   "execution_count": 8,
   "id": "ed6969b1-be08-4805-a661-c96704781ec4",
   "metadata": {},
   "outputs": [],
   "source": [
    "def u_g(qc):\n",
    "    \"\"\"Apply diffusion operator\"\"\"\n",
    "    qc.h(0)\n",
    "    qc.h(1)\n",
    "    qc.z(0)\n",
    "    qc.z(1)\n",
    "    qc.cz(0,1)\n",
    "    qc.h(0)\n",
    "    qc.h(1)\n",
    "    qc.barrier()"
   ]
  },
  {
   "cell_type": "code",
   "execution_count": 9,
   "id": "54c98310-6f5e-41d4-90fe-dba8e41d47ed",
   "metadata": {},
   "outputs": [
    {
     "data": {
      "image/png": "[encoded data removed]",
      "text/plain": [
       "<Figure size 628.252x144.48 with 1 Axes>"
      ]
     },
     "execution_count": 9,
     "metadata": {},
     "output_type": "execute_result"
    }
   ],
   "source": [
    "u_g(grover_circuit)        # temporary circuit just to see what U_s looks like\n",
    "grover_circuit.draw('mpl')"
   ]
  },
  {
   "cell_type": "code",
   "execution_count": 10,
   "id": "bd0ed011-d6c8-442a-9a8f-807df35d9b14",
   "metadata": {},
   "outputs": [
    {
     "data": {
      "image/png": "[encoded data removed]",
      "text/plain": [
       "<Figure size 839.279x204.68 with 1 Axes>"
      ]
     },
     "execution_count": 10,
     "metadata": {},
     "output_type": "execute_result"
    }
   ],
   "source": [
    "grover_circuit.measure_all()\n",
    "grover_circuit.draw('mpl')"
   ]
  },
  {
   "cell_type": "code",
   "execution_count": 11,
   "id": "9cca54dc-61a6-4cf0-aced-11d3008cd6bb",
   "metadata": {},
   "outputs": [
    {
     "data": {
      "image/png": "[encoded data removed]",
      "text/plain": [
       "<Figure size 504x360 with 1 Axes>"
      ]
     },
     "execution_count": 11,
     "metadata": {},
     "output_type": "execute_result"
    }
   ],
   "source": [
    "backend = q.Aer.get_backend('qasm_simulator')\n",
    "job = q.execute(grover_circuit, backend, shots = 1024)\n",
    "result = job.result()\n",
    "counts = result.get_counts()\n",
    "plot_histogram(counts)"
   ]
  },
  {
   "cell_type": "code",
   "execution_count": null,
   "id": "7e7ad5cf-0cc4-4e7e-a35f-0c800d133e1f",
   "metadata": {},
   "outputs": [],
   "source": []
  }
 ],
 "metadata": {
  "kernelspec": {
   "display_name": "Qiskit v0.29.0",
   "language": "python",
   "name": "python3"
  },
  "language_info": {
   "codemirror_mode": {
    "name": "ipython",
    "version": 3
   },
   "file_extension": ".py",
   "mimetype": "text/x-python",
   "name": "python",
   "nbconvert_exporter": "python",
   "pygments_lexer": "ipython3",
   "version": "3.8.10"
  },
  "widgets": {
   "application/vnd.jupyter.widget-state+json": {
    "state": {
     "0ddf5d3632b04594b977854c3e937411": {
      "model_module": "@jupyter-widgets/base",
      "model_module_version": "1.2.0",
      "model_name": "LayoutModel",
      "state": {
       "width": "145px"
      }
     },
     "24b9aaa4b7664dad95fb04ebc5d12a26": {
      "model_module": "@jupyter-widgets/controls",
      "model_module_version": "1.5.0",
      "model_name": "HTMLModel",
      "state": {
       "layout": "IPY_MODEL_90b7ee1b773545f7ba91f21179c6bdd1",
       "style": "IPY_MODEL_dc595e8a91074b71b2c746cd8c1e5d80",
       "value": "<h5>Queue</h5>"
      }
     },
     "2c4b7479b7234a11b4ccaa28b70f4ec9": {
      "model_module": "@jupyter-widgets/controls",
      "model_module_version": "1.5.0",
      "model_name": "ButtonStyleModel",
      "state": {}
     },
     "2f16970169504b859d67a64b923ef928": {
      "model_module": "@jupyter-widgets/base",
      "model_module_version": "1.2.0",
      "model_name": "LayoutModel",
      "state": {
       "width": "190px"
      }
     },
     "437f6736006243228bb3d4be4bcfeaf0": {
      "model_module": "@jupyter-widgets/base",
      "model_module_version": "1.2.0",
      "model_name": "LayoutModel",
      "state": {
       "margin": "0px 0px 10px 0px"
      }
     },
     "47c366fd88c147bd8bd4584b1da339c6": {
      "model_module": "@jupyter-widgets/controls",
      "model_module_version": "1.5.0",
      "model_name": "HTMLModel",
      "state": {
       "layout": "IPY_MODEL_2f16970169504b859d67a64b923ef928",
       "style": "IPY_MODEL_5c71d0cb975d4012b534e44629260d12",
       "value": "<h5>Job ID</h5>"
      }
     },
     "4ee6e629829c4065b5c9b6098ec44843": {
      "model_module": "@jupyter-widgets/controls",
      "model_module_version": "1.5.0",
      "model_name": "DescriptionStyleModel",
      "state": {
       "description_width": ""
      }
     },
     "5a7aeb4c3be8440d994e9b61fca55ee1": {
      "model_module": "@jupyter-widgets/controls",
      "model_module_version": "1.5.0",
      "model_name": "DescriptionStyleModel",
      "state": {
       "description_width": ""
      }
     },
     "5c71d0cb975d4012b534e44629260d12": {
      "model_module": "@jupyter-widgets/controls",
      "model_module_version": "1.5.0",
      "model_name": "DescriptionStyleModel",
      "state": {
       "description_width": ""
      }
     },
     "6aea0fd9c44c4a6ea0c711f11844d560": {
      "model_module": "@jupyter-widgets/controls",
      "model_module_version": "1.5.0",
      "model_name": "HTMLModel",
      "state": {
       "layout": "IPY_MODEL_718de54992dd4db1a0111a003a026196",
       "style": "IPY_MODEL_8dd75595aa68419b9310295df622ed54",
       "value": "<h5>Status</h5>"
      }
     },
     "6bf5be12175f4a7cad68dbaa4bc09a8b": {
      "model_module": "@jupyter-widgets/controls",
      "model_module_version": "1.5.0",
      "model_name": "HBoxModel",
      "state": {
       "children": [
        "IPY_MODEL_47c366fd88c147bd8bd4584b1da339c6",
        "IPY_MODEL_80df8624568940aeb18fb60ed53ead9b",
        "IPY_MODEL_6aea0fd9c44c4a6ea0c711f11844d560",
        "IPY_MODEL_24b9aaa4b7664dad95fb04ebc5d12a26",
        "IPY_MODEL_ce961c59e4be4240aafe0e3281864140"
       ],
       "layout": "IPY_MODEL_cd3ae93dab974d349ec295397a3787a0"
      }
     },
     "6e92555141e246138ed9e493a36a2920": {
      "model_module": "@jupyter-widgets/base",
      "model_module_version": "1.2.0",
      "model_name": "LayoutModel",
      "state": {}
     },
     "718de54992dd4db1a0111a003a026196": {
      "model_module": "@jupyter-widgets/base",
      "model_module_version": "1.2.0",
      "model_name": "LayoutModel",
      "state": {
       "width": "95px"
      }
     },
     "80df8624568940aeb18fb60ed53ead9b": {
      "model_module": "@jupyter-widgets/controls",
      "model_module_version": "1.5.0",
      "model_name": "HTMLModel",
      "state": {
       "layout": "IPY_MODEL_0ddf5d3632b04594b977854c3e937411",
       "style": "IPY_MODEL_4ee6e629829c4065b5c9b6098ec44843",
       "value": "<h5>Backend</h5>"
      }
     },
     "8dd75595aa68419b9310295df622ed54": {
      "model_module": "@jupyter-widgets/controls",
      "model_module_version": "1.5.0",
      "model_name": "DescriptionStyleModel",
      "state": {
       "description_width": ""
      }
     },
     "90b7ee1b773545f7ba91f21179c6bdd1": {
      "model_module": "@jupyter-widgets/base",
      "model_module_version": "1.2.0",
      "model_name": "LayoutModel",
      "state": {
       "width": "70px"
      }
     },
     "c18c6876b38347239d1474299545acb2": {
      "model_module": "@jupyter-widgets/controls",
      "model_module_version": "1.5.0",
      "model_name": "ButtonModel",
      "state": {
       "button_style": "primary",
       "description": "Clear",
       "layout": "IPY_MODEL_d4d8489d9d654306bb374ae78bfc284c",
       "style": "IPY_MODEL_2c4b7479b7234a11b4ccaa28b70f4ec9"
      }
     },
     "cb1e140002ee46afbb50ffa22b7aa1d1": {
      "model_module": "@jupyter-widgets/controls",
      "model_module_version": "1.5.0",
      "model_name": "GridBoxModel",
      "state": {
       "children": [
        "IPY_MODEL_c18c6876b38347239d1474299545acb2"
       ],
       "layout": "IPY_MODEL_e546bb5c72c6454896f9a1c7917c48f7"
      }
     },
     "cd3ae93dab974d349ec295397a3787a0": {
      "model_module": "@jupyter-widgets/base",
      "model_module_version": "1.2.0",
      "model_name": "LayoutModel",
      "state": {
       "margin": "0px 0px 0px 37px",
       "width": "600px"
      }
     },
     "ce961c59e4be4240aafe0e3281864140": {
      "model_module": "@jupyter-widgets/controls",
      "model_module_version": "1.5.0",
      "model_name": "HTMLModel",
      "state": {
       "layout": "IPY_MODEL_6e92555141e246138ed9e493a36a2920",
       "style": "IPY_MODEL_5a7aeb4c3be8440d994e9b61fca55ee1",
       "value": "<h5>Message</h5>"
      }
     },
     "d478fd166ef44fbbad80d2ee07424c15": {
      "model_module": "@jupyter-widgets/controls",
      "model_module_version": "1.5.0",
      "model_name": "HTMLModel",
      "state": {
       "layout": "IPY_MODEL_437f6736006243228bb3d4be4bcfeaf0",
       "style": "IPY_MODEL_e4a19f79eff645bf8b83a3cd3c3041d2",
       "value": "<p style='font-family: IBM Plex Sans, Arial, Helvetica, sans-serif; font-size: 20px; font-weight: medium;'>Circuit Properties</p>"
      }
     },
     "d4d8489d9d654306bb374ae78bfc284c": {
      "model_module": "@jupyter-widgets/base",
      "model_module_version": "1.2.0",
      "model_name": "LayoutModel",
      "state": {
       "grid_area": "right",
       "padding": "0px 0px 0px 0px",
       "width": "70px"
      }
     },
     "dc595e8a91074b71b2c746cd8c1e5d80": {
      "model_module": "@jupyter-widgets/controls",
      "model_module_version": "1.5.0",
      "model_name": "DescriptionStyleModel",
      "state": {
       "description_width": ""
      }
     },
     "e4a19f79eff645bf8b83a3cd3c3041d2": {
      "model_module": "@jupyter-widgets/controls",
      "model_module_version": "1.5.0",
      "model_name": "DescriptionStyleModel",
      "state": {
       "description_width": ""
      }
     },
     "e546bb5c72c6454896f9a1c7917c48f7": {
      "model_module": "@jupyter-widgets/base",
      "model_module_version": "1.2.0",
      "model_name": "LayoutModel",
      "state": {
       "grid_template_areas": "\n                                       \". . . . right \"\n                                        ",
       "grid_template_columns": "20% 20% 20% 20% 20%",
       "width": "100%"
      }
     }
    },
    "version_major": 2,
    "version_minor": 0
   }
  }
 },
 "nbformat": 4,
 "nbformat_minor": 5
}
